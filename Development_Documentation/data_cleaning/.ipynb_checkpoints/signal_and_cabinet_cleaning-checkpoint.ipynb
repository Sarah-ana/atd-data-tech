{
 "cells": [
  {
   "cell_type": "code",
   "execution_count": 2,
   "metadata": {},
   "outputs": [],
   "source": [
    "# import package\n",
    "import pandas as pd\n",
    "import numpy as np"
   ]
  },
  {
   "cell_type": "code",
   "execution_count": 3,
   "metadata": {},
   "outputs": [],
   "source": [
    "# import data\n",
    "cabinet_raw = pd.read_csv(\"signal_data/cabinet_8_22.csv\")\n",
    "signal_raw = pd.read_csv(\"signal_data/signals_8_22.csv\")"
   ]
  },
  {
   "cell_type": "markdown",
   "metadata": {},
   "source": [
    "### 0.data cleaning"
   ]
  },
  {
   "cell_type": "code",
   "execution_count": 4,
   "metadata": {},
   "outputs": [],
   "source": [
    "# pick useful columns from two datasets, change all columns to strings\n",
    "signal = signal_raw[[\"SIGNAL_ID\", \"PRIMARY_SIGNAL_ID\", \"CONTROL\", \"LOCATION_NAME\"]].astype(str)\n",
    "cabinet = cabinet_raw[[\"SIGNAL_ID\", \"CABINET_ID\"]].astype(str)"
   ]
  },
  {
   "cell_type": "code",
   "execution_count": 5,
   "metadata": {},
   "outputs": [
    {
     "name": "stdout",
     "output_type": "stream",
     "text": [
      "<class 'pandas.core.frame.DataFrame'>\n",
      "RangeIndex: 1117 entries, 0 to 1116\n",
      "Data columns (total 4 columns):\n",
      "SIGNAL_ID            1117 non-null object\n",
      "PRIMARY_SIGNAL_ID    1117 non-null object\n",
      "CONTROL              1117 non-null object\n",
      "LOCATION_NAME        1117 non-null object\n",
      "dtypes: object(4)\n",
      "memory usage: 17.5+ KB\n"
     ]
    }
   ],
   "source": [
    "signal.info()"
   ]
  },
  {
   "cell_type": "code",
   "execution_count": 6,
   "metadata": {},
   "outputs": [
    {
     "name": "stdout",
     "output_type": "stream",
     "text": [
      "<class 'pandas.core.frame.DataFrame'>\n",
      "RangeIndex: 935 entries, 0 to 934\n",
      "Data columns (total 2 columns):\n",
      "SIGNAL_ID     935 non-null object\n",
      "CABINET_ID    935 non-null object\n",
      "dtypes: object(2)\n",
      "memory usage: 7.3+ KB\n"
     ]
    }
   ],
   "source": [
    "cabinet.info()"
   ]
  },
  {
   "cell_type": "code",
   "execution_count": 7,
   "metadata": {
    "scrolled": true
   },
   "outputs": [
    {
     "data": {
      "text/html": [
       "<div>\n",
       "<style scoped>\n",
       "    .dataframe tbody tr th:only-of-type {\n",
       "        vertical-align: middle;\n",
       "    }\n",
       "\n",
       "    .dataframe tbody tr th {\n",
       "        vertical-align: top;\n",
       "    }\n",
       "\n",
       "    .dataframe thead th {\n",
       "        text-align: right;\n",
       "    }\n",
       "</style>\n",
       "<table border=\"1\" class=\"dataframe\">\n",
       "  <thead>\n",
       "    <tr style=\"text-align: right;\">\n",
       "      <th></th>\n",
       "      <th>SIGNAL_ID</th>\n",
       "      <th>PRIMARY_SIGNAL_ID</th>\n",
       "      <th>CONTROL</th>\n",
       "      <th>LOCATION_NAME</th>\n",
       "    </tr>\n",
       "  </thead>\n",
       "  <tbody>\n",
       "    <tr>\n",
       "      <th>0</th>\n",
       "      <td>2</td>\n",
       "      <td>nan</td>\n",
       "      <td>PRIMARY</td>\n",
       "      <td>GUADALUPE ST / LAMAR BLVD</td>\n",
       "    </tr>\n",
       "    <tr>\n",
       "      <th>1</th>\n",
       "      <td>3</td>\n",
       "      <td>nan</td>\n",
       "      <td>PRIMARY</td>\n",
       "      <td>LAMAR BLVD / 51ST ST</td>\n",
       "    </tr>\n",
       "    <tr>\n",
       "      <th>2</th>\n",
       "      <td>4</td>\n",
       "      <td>nan</td>\n",
       "      <td>PRIMARY</td>\n",
       "      <td>LAMAR BLVD / NORTH LOOP BLVD</td>\n",
       "    </tr>\n",
       "    <tr>\n",
       "      <th>3</th>\n",
       "      <td>5</td>\n",
       "      <td>nan</td>\n",
       "      <td>PRIMARY</td>\n",
       "      <td>KOENIG LN / LAMAR BLVD</td>\n",
       "    </tr>\n",
       "    <tr>\n",
       "      <th>4</th>\n",
       "      <td>6</td>\n",
       "      <td>nan</td>\n",
       "      <td>PRIMARY</td>\n",
       "      <td>LAMAR BLVD / DENSON DR</td>\n",
       "    </tr>\n",
       "  </tbody>\n",
       "</table>\n",
       "</div>"
      ],
      "text/plain": [
       "  SIGNAL_ID PRIMARY_SIGNAL_ID  CONTROL                  LOCATION_NAME\n",
       "0         2               nan  PRIMARY      GUADALUPE ST / LAMAR BLVD\n",
       "1         3               nan  PRIMARY           LAMAR BLVD / 51ST ST\n",
       "2         4               nan  PRIMARY   LAMAR BLVD / NORTH LOOP BLVD\n",
       "3         5               nan  PRIMARY         KOENIG LN / LAMAR BLVD\n",
       "4         6               nan  PRIMARY         LAMAR BLVD / DENSON DR"
      ]
     },
     "execution_count": 7,
     "metadata": {},
     "output_type": "execute_result"
    }
   ],
   "source": [
    "signal.head(5)"
   ]
  },
  {
   "cell_type": "code",
   "execution_count": 8,
   "metadata": {},
   "outputs": [
    {
     "data": {
      "text/html": [
       "<div>\n",
       "<style scoped>\n",
       "    .dataframe tbody tr th:only-of-type {\n",
       "        vertical-align: middle;\n",
       "    }\n",
       "\n",
       "    .dataframe tbody tr th {\n",
       "        vertical-align: top;\n",
       "    }\n",
       "\n",
       "    .dataframe thead th {\n",
       "        text-align: right;\n",
       "    }\n",
       "</style>\n",
       "<table border=\"1\" class=\"dataframe\">\n",
       "  <thead>\n",
       "    <tr style=\"text-align: right;\">\n",
       "      <th></th>\n",
       "      <th>SIGNAL_ID</th>\n",
       "      <th>CABINET_ID</th>\n",
       "    </tr>\n",
       "  </thead>\n",
       "  <tbody>\n",
       "    <tr>\n",
       "      <th>0</th>\n",
       "      <td>332</td>\n",
       "      <td>1</td>\n",
       "    </tr>\n",
       "    <tr>\n",
       "      <th>1</th>\n",
       "      <td>742</td>\n",
       "      <td>2</td>\n",
       "    </tr>\n",
       "    <tr>\n",
       "      <th>2</th>\n",
       "      <td>959</td>\n",
       "      <td>3</td>\n",
       "    </tr>\n",
       "    <tr>\n",
       "      <th>3</th>\n",
       "      <td>288</td>\n",
       "      <td>4</td>\n",
       "    </tr>\n",
       "    <tr>\n",
       "      <th>4</th>\n",
       "      <td>326</td>\n",
       "      <td>5</td>\n",
       "    </tr>\n",
       "  </tbody>\n",
       "</table>\n",
       "</div>"
      ],
      "text/plain": [
       "  SIGNAL_ID CABINET_ID\n",
       "0       332          1\n",
       "1       742          2\n",
       "2       959          3\n",
       "3       288          4\n",
       "4       326          5"
      ]
     },
     "execution_count": 8,
     "metadata": {},
     "output_type": "execute_result"
    }
   ],
   "source": [
    "cabinet.head(5)"
   ]
  },
  {
   "cell_type": "code",
   "execution_count": 9,
   "metadata": {},
   "outputs": [],
   "source": [
    "# filter out secondary signals\n",
    "secondary = signal.loc[signal[\"CONTROL\"] == \"SECONDARY\"].copy()\n",
    "\n",
    "# filter out primary signals\n",
    "primary = signal.loc[signal[\"CONTROL\"] == \"PRIMARY\"].copy()"
   ]
  },
  {
   "cell_type": "markdown",
   "metadata": {},
   "source": [
    "### 1. Fill cabinet IDs for secondary signals. "
   ]
  },
  {
   "cell_type": "code",
   "execution_count": 10,
   "metadata": {},
   "outputs": [],
   "source": [
    "# slice out trailing 0\n",
    "secondary[\"PRIMARY_SIGNAL_ID\"] = secondary[\"PRIMARY_SIGNAL_ID\"].astype(str)\n",
    "secondary[\"PRIMARY_SIGNAL_ID\"] = secondary[\"PRIMARY_SIGNAL_ID\"].str.split('.', expand = True)[0]"
   ]
  },
  {
   "cell_type": "code",
   "execution_count": 11,
   "metadata": {},
   "outputs": [],
   "source": [
    "# match cabinet ID to secondary signals using the primary \n",
    "# signal IDs of secondary signals\n",
    "secondary_cab = secondary.merge(cabinet, \n",
    "                                left_on = \"PRIMARY_SIGNAL_ID\", \n",
    "                                right_on = \"SIGNAL_ID\", \n",
    "                                how = \"left\").copy()"
   ]
  },
  {
   "cell_type": "code",
   "execution_count": 12,
   "metadata": {},
   "outputs": [
    {
     "name": "stdout",
     "output_type": "stream",
     "text": [
      "<class 'pandas.core.frame.DataFrame'>\n",
      "Int64Index: 136 entries, 0 to 135\n",
      "Data columns (total 6 columns):\n",
      "SIGNAL_ID_x          136 non-null object\n",
      "PRIMARY_SIGNAL_ID    136 non-null object\n",
      "CONTROL              136 non-null object\n",
      "LOCATION_NAME        136 non-null object\n",
      "SIGNAL_ID_y          120 non-null object\n",
      "CABINET_ID           120 non-null object\n",
      "dtypes: object(6)\n",
      "memory usage: 4.2+ KB\n"
     ]
    }
   ],
   "source": [
    "secondary_cab.info()"
   ]
  },
  {
   "cell_type": "code",
   "execution_count": 13,
   "metadata": {},
   "outputs": [
    {
     "data": {
      "text/plain": [
       "672    2\n",
       "884    1\n",
       "981    1\n",
       "593    1\n",
       "104    1\n",
       "Name: SIGNAL_ID_x, dtype: int64"
      ]
     },
     "execution_count": 13,
     "metadata": {},
     "output_type": "execute_result"
    }
   ],
   "source": [
    "secondary_cab[\"SIGNAL_ID_x\"].value_counts().head(5)"
   ]
  },
  {
   "cell_type": "code",
   "execution_count": 14,
   "metadata": {},
   "outputs": [],
   "source": [
    "secondary_cab = secondary_cab.rename(columns={'SIGNAL_ID_x': 'SIGNAL_ID'})"
   ]
  },
  {
   "cell_type": "markdown",
   "metadata": {},
   "source": [
    "### 2. map cabinet IDs to primary signals\n"
   ]
  },
  {
   "cell_type": "code",
   "execution_count": 15,
   "metadata": {},
   "outputs": [],
   "source": [
    "primary_cab = primary.merge(cabinet, \n",
    "                                left_on = \"SIGNAL_ID\", \n",
    "                                right_on = \"SIGNAL_ID\", \n",
    "                                how = \"left\").copy()"
   ]
  },
  {
   "cell_type": "code",
   "execution_count": 16,
   "metadata": {},
   "outputs": [
    {
     "name": "stdout",
     "output_type": "stream",
     "text": [
      "<class 'pandas.core.frame.DataFrame'>\n",
      "Int64Index: 988 entries, 0 to 987\n",
      "Data columns (total 5 columns):\n",
      "SIGNAL_ID            988 non-null object\n",
      "PRIMARY_SIGNAL_ID    988 non-null object\n",
      "CONTROL              988 non-null object\n",
      "LOCATION_NAME        988 non-null object\n",
      "CABINET_ID           921 non-null object\n",
      "dtypes: object(5)\n",
      "memory usage: 27.0+ KB\n"
     ]
    }
   ],
   "source": [
    "primary_cab.info()"
   ]
  },
  {
   "cell_type": "code",
   "execution_count": 17,
   "metadata": {},
   "outputs": [
    {
     "data": {
      "text/plain": [
       "897    1\n",
       "821    1\n",
       "199    1\n",
       "252    1\n",
       "845    1\n",
       "Name: CABINET_ID, dtype: int64"
      ]
     },
     "execution_count": 17,
     "metadata": {},
     "output_type": "execute_result"
    }
   ],
   "source": [
    "primary_cab[\"CABINET_ID\"].value_counts().head(5)"
   ]
  },
  {
   "cell_type": "code",
   "execution_count": 18,
   "metadata": {},
   "outputs": [],
   "source": [
    "# primary_cab[\"CABINET_ID\"] = primary_cab[\"CABINET_ID\"].astype(str)\n",
    "# primary_cab[\"CABINET_ID\"] = primary_cab[\"CABINET_ID\"].str.split('.', expand = True)[0]"
   ]
  },
  {
   "cell_type": "markdown",
   "metadata": {},
   "source": [
    "### 3. put primary and secondary signals (with cab ID) together"
   ]
  },
  {
   "cell_type": "code",
   "execution_count": 19,
   "metadata": {},
   "outputs": [],
   "source": [
    "signal_cab = primary_cab.append(secondary_cab, sort=False)"
   ]
  },
  {
   "cell_type": "code",
   "execution_count": 20,
   "metadata": {},
   "outputs": [
    {
     "name": "stdout",
     "output_type": "stream",
     "text": [
      "<class 'pandas.core.frame.DataFrame'>\n",
      "Int64Index: 1124 entries, 0 to 135\n",
      "Data columns (total 6 columns):\n",
      "SIGNAL_ID            1124 non-null object\n",
      "PRIMARY_SIGNAL_ID    1124 non-null object\n",
      "CONTROL              1124 non-null object\n",
      "LOCATION_NAME        1124 non-null object\n",
      "CABINET_ID           1041 non-null object\n",
      "SIGNAL_ID_y          120 non-null object\n",
      "dtypes: object(6)\n",
      "memory usage: 35.1+ KB\n"
     ]
    }
   ],
   "source": [
    "signal_cab.info()"
   ]
  },
  {
   "cell_type": "code",
   "execution_count": 21,
   "metadata": {
    "scrolled": true
   },
   "outputs": [
    {
     "data": {
      "text/plain": [
       "914     2\n",
       "871     2\n",
       "513     2\n",
       "725     2\n",
       "672     2\n",
       "245     2\n",
       "671     2\n",
       "968     1\n",
       "783     1\n",
       "441     1\n",
       "1001    1\n",
       "4040    1\n",
       "768     1\n",
       "341     1\n",
       "69      1\n",
       "1032    1\n",
       "435     1\n",
       "602     1\n",
       "1036    1\n",
       "336     1\n",
       "86      1\n",
       "514     1\n",
       "797     1\n",
       "4054    1\n",
       "1021    1\n",
       "138     1\n",
       "346     1\n",
       "339     1\n",
       "580     1\n",
       "4074    1\n",
       "       ..\n",
       "1011    1\n",
       "982     1\n",
       "272     1\n",
       "407     1\n",
       "504     1\n",
       "249     1\n",
       "639     1\n",
       "866     1\n",
       "415     1\n",
       "371     1\n",
       "313     1\n",
       "675     1\n",
       "643     1\n",
       "716     1\n",
       "723     1\n",
       "360     1\n",
       "130     1\n",
       "4085    1\n",
       "190     1\n",
       "532     1\n",
       "4004    1\n",
       "865     1\n",
       "998     1\n",
       "290     1\n",
       "212     1\n",
       "131     1\n",
       "4018    1\n",
       "653     1\n",
       "202     1\n",
       "977     1\n",
       "Name: SIGNAL_ID, Length: 1117, dtype: int64"
      ]
     },
     "execution_count": 21,
     "metadata": {},
     "output_type": "execute_result"
    }
   ],
   "source": [
    "signal_cab[\"SIGNAL_ID\"].value_counts()"
   ]
  },
  {
   "cell_type": "code",
   "execution_count": 22,
   "metadata": {},
   "outputs": [],
   "source": [
    "# drop duplicate signals\n",
    "signal_cab = signal_cab.drop_duplicates(subset=\"SIGNAL_ID\")"
   ]
  },
  {
   "cell_type": "code",
   "execution_count": 23,
   "metadata": {},
   "outputs": [
    {
     "name": "stdout",
     "output_type": "stream",
     "text": [
      "<class 'pandas.core.frame.DataFrame'>\n",
      "Int64Index: 1117 entries, 0 to 135\n",
      "Data columns (total 6 columns):\n",
      "SIGNAL_ID            1117 non-null object\n",
      "PRIMARY_SIGNAL_ID    1117 non-null object\n",
      "CONTROL              1117 non-null object\n",
      "LOCATION_NAME        1117 non-null object\n",
      "CABINET_ID           1034 non-null object\n",
      "SIGNAL_ID_y          119 non-null object\n",
      "dtypes: object(6)\n",
      "memory usage: 34.9+ KB\n"
     ]
    }
   ],
   "source": [
    "signal_cab.info()"
   ]
  },
  {
   "cell_type": "code",
   "execution_count": 1,
   "metadata": {},
   "outputs": [
    {
     "ename": "NameError",
     "evalue": "name 'signal_cab' is not defined",
     "output_type": "error",
     "traceback": [
      "\u001b[0;31m---------------------------------------------------------------------------\u001b[0m",
      "\u001b[0;31mNameError\u001b[0m                                 Traceback (most recent call last)",
      "\u001b[0;32m<ipython-input-1-fc20ca8e19db>\u001b[0m in \u001b[0;36m<module>\u001b[0;34m()\u001b[0m\n\u001b[0;32m----> 1\u001b[0;31m \u001b[0msignal_cab\u001b[0m\u001b[0;34m[\u001b[0m\u001b[0;34m\"CABINET_ID\"\u001b[0m\u001b[0;34m]\u001b[0m\u001b[0;34m.\u001b[0m\u001b[0mvalue_counts\u001b[0m\u001b[0;34m(\u001b[0m\u001b[0;34m)\u001b[0m\u001b[0;34m.\u001b[0m\u001b[0mhead\u001b[0m\u001b[0;34m(\u001b[0m\u001b[0;36m5\u001b[0m\u001b[0;34m)\u001b[0m\u001b[0;34m\u001b[0m\u001b[0m\n\u001b[0m",
      "\u001b[0;31mNameError\u001b[0m: name 'signal_cab' is not defined"
     ]
    }
   ],
   "source": [
    "signal_cab[\"CABINET_ID\"].value_counts().head(5)"
   ]
  },
  {
   "cell_type": "markdown",
   "metadata": {},
   "source": [
    "### 4. save to CSV"
   ]
  },
  {
   "cell_type": "code",
   "execution_count": 26,
   "metadata": {},
   "outputs": [],
   "source": [
    "signal_cab.to_csv(\"all_signals_with_cabinet_ID.csv\")"
   ]
  }
 ],
 "metadata": {
  "kernelspec": {
   "display_name": "Python 3",
   "language": "python",
   "name": "python3"
  },
  "language_info": {
   "codemirror_mode": {
    "name": "ipython",
    "version": 3
   },
   "file_extension": ".py",
   "mimetype": "text/x-python",
   "name": "python",
   "nbconvert_exporter": "python",
   "pygments_lexer": "ipython3",
   "version": "3.6.5"
  }
 },
 "nbformat": 4,
 "nbformat_minor": 2
}
