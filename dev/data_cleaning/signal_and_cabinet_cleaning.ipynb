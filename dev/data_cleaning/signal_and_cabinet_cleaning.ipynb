{
 "cells": [
  {
   "cell_type": "code",
   "execution_count": 44,
   "metadata": {},
   "outputs": [],
   "source": [
    "# import package\n",
    "import pandas as pd\n",
    "import numpy as np"
   ]
  },
  {
   "cell_type": "code",
   "execution_count": 45,
   "metadata": {},
   "outputs": [],
   "source": [
    "# import data\n",
    "cabinet_raw = pd.read_csv(\"signal_data/signals_cabinet_9_26.csv\")\n",
    "signal_raw = pd.read_csv(\"signal_data/signals_9_26.csv\")"
   ]
  },
  {
   "cell_type": "markdown",
   "metadata": {},
   "source": [
    "### 0.data cleaning"
   ]
  },
  {
   "cell_type": "code",
   "execution_count": 46,
   "metadata": {},
   "outputs": [],
   "source": [
    "# pick useful columns from two datasets, change all columns to strings\n",
    "signal = signal_raw[[\"SIGNAL_ID\", \"PRIMARY_SIGNAL_ID\", \"CONTROL\", \"LOCATION_NAME\", \"CONTROLLER_IP\"]].astype(str)\n",
    "cabinet = cabinet_raw[[\"SIGNAL_ID\", \"CABINET_ID\"]].astype(str)"
   ]
  },
  {
   "cell_type": "code",
   "execution_count": 47,
   "metadata": {},
   "outputs": [
    {
     "name": "stdout",
     "output_type": "stream",
     "text": [
      "<class 'pandas.core.frame.DataFrame'>\n",
      "RangeIndex: 1117 entries, 0 to 1116\n",
      "Data columns (total 5 columns):\n",
      "SIGNAL_ID            1117 non-null object\n",
      "PRIMARY_SIGNAL_ID    1117 non-null object\n",
      "CONTROL              1117 non-null object\n",
      "LOCATION_NAME        1117 non-null object\n",
      "CONTROLLER_IP        1117 non-null object\n",
      "dtypes: object(5)\n",
      "memory usage: 43.7+ KB\n"
     ]
    }
   ],
   "source": [
    "signal.info()"
   ]
  },
  {
   "cell_type": "code",
   "execution_count": 48,
   "metadata": {},
   "outputs": [
    {
     "name": "stdout",
     "output_type": "stream",
     "text": [
      "<class 'pandas.core.frame.DataFrame'>\n",
      "RangeIndex: 935 entries, 0 to 934\n",
      "Data columns (total 2 columns):\n",
      "SIGNAL_ID     935 non-null object\n",
      "CABINET_ID    935 non-null object\n",
      "dtypes: object(2)\n",
      "memory usage: 14.7+ KB\n"
     ]
    }
   ],
   "source": [
    "cabinet.info()"
   ]
  },
  {
   "cell_type": "code",
   "execution_count": 49,
   "metadata": {
    "scrolled": true
   },
   "outputs": [
    {
     "data": {
      "text/html": [
       "<div>\n",
       "<style scoped>\n",
       "    .dataframe tbody tr th:only-of-type {\n",
       "        vertical-align: middle;\n",
       "    }\n",
       "\n",
       "    .dataframe tbody tr th {\n",
       "        vertical-align: top;\n",
       "    }\n",
       "\n",
       "    .dataframe thead th {\n",
       "        text-align: right;\n",
       "    }\n",
       "</style>\n",
       "<table border=\"1\" class=\"dataframe\">\n",
       "  <thead>\n",
       "    <tr style=\"text-align: right;\">\n",
       "      <th></th>\n",
       "      <th>SIGNAL_ID</th>\n",
       "      <th>PRIMARY_SIGNAL_ID</th>\n",
       "      <th>CONTROL</th>\n",
       "      <th>LOCATION_NAME</th>\n",
       "      <th>CONTROLLER_IP</th>\n",
       "    </tr>\n",
       "  </thead>\n",
       "  <tbody>\n",
       "    <tr>\n",
       "      <th>0</th>\n",
       "      <td>2</td>\n",
       "      <td>nan</td>\n",
       "      <td>PRIMARY</td>\n",
       "      <td>GUADALUPE ST / LAMAR BLVD</td>\n",
       "      <td>172.16.74.52</td>\n",
       "    </tr>\n",
       "    <tr>\n",
       "      <th>1</th>\n",
       "      <td>3</td>\n",
       "      <td>nan</td>\n",
       "      <td>PRIMARY</td>\n",
       "      <td>LAMAR BLVD / 51ST ST</td>\n",
       "      <td>172.16.74.48</td>\n",
       "    </tr>\n",
       "    <tr>\n",
       "      <th>2</th>\n",
       "      <td>4</td>\n",
       "      <td>nan</td>\n",
       "      <td>PRIMARY</td>\n",
       "      <td>LAMAR BLVD / NORTH LOOP BLVD</td>\n",
       "      <td>172.16.74.44</td>\n",
       "    </tr>\n",
       "    <tr>\n",
       "      <th>3</th>\n",
       "      <td>5</td>\n",
       "      <td>nan</td>\n",
       "      <td>PRIMARY</td>\n",
       "      <td>KOENIG LN / LAMAR BLVD</td>\n",
       "      <td>172.16.74.40</td>\n",
       "    </tr>\n",
       "    <tr>\n",
       "      <th>4</th>\n",
       "      <td>6</td>\n",
       "      <td>nan</td>\n",
       "      <td>PRIMARY</td>\n",
       "      <td>LAMAR BLVD / DENSON DR</td>\n",
       "      <td>172.16.74.36</td>\n",
       "    </tr>\n",
       "  </tbody>\n",
       "</table>\n",
       "</div>"
      ],
      "text/plain": [
       "  SIGNAL_ID PRIMARY_SIGNAL_ID  CONTROL                  LOCATION_NAME  \\\n",
       "0         2               nan  PRIMARY      GUADALUPE ST / LAMAR BLVD   \n",
       "1         3               nan  PRIMARY           LAMAR BLVD / 51ST ST   \n",
       "2         4               nan  PRIMARY   LAMAR BLVD / NORTH LOOP BLVD   \n",
       "3         5               nan  PRIMARY         KOENIG LN / LAMAR BLVD   \n",
       "4         6               nan  PRIMARY         LAMAR BLVD / DENSON DR   \n",
       "\n",
       "  CONTROLLER_IP  \n",
       "0  172.16.74.52  \n",
       "1  172.16.74.48  \n",
       "2  172.16.74.44  \n",
       "3  172.16.74.40  \n",
       "4  172.16.74.36  "
      ]
     },
     "execution_count": 49,
     "metadata": {},
     "output_type": "execute_result"
    }
   ],
   "source": [
    "signal.head(5)"
   ]
  },
  {
   "cell_type": "code",
   "execution_count": 50,
   "metadata": {},
   "outputs": [
    {
     "data": {
      "text/html": [
       "<div>\n",
       "<style scoped>\n",
       "    .dataframe tbody tr th:only-of-type {\n",
       "        vertical-align: middle;\n",
       "    }\n",
       "\n",
       "    .dataframe tbody tr th {\n",
       "        vertical-align: top;\n",
       "    }\n",
       "\n",
       "    .dataframe thead th {\n",
       "        text-align: right;\n",
       "    }\n",
       "</style>\n",
       "<table border=\"1\" class=\"dataframe\">\n",
       "  <thead>\n",
       "    <tr style=\"text-align: right;\">\n",
       "      <th></th>\n",
       "      <th>SIGNAL_ID</th>\n",
       "      <th>CABINET_ID</th>\n",
       "    </tr>\n",
       "  </thead>\n",
       "  <tbody>\n",
       "    <tr>\n",
       "      <th>0</th>\n",
       "      <td>332</td>\n",
       "      <td>1</td>\n",
       "    </tr>\n",
       "    <tr>\n",
       "      <th>1</th>\n",
       "      <td>742</td>\n",
       "      <td>2</td>\n",
       "    </tr>\n",
       "    <tr>\n",
       "      <th>2</th>\n",
       "      <td>959</td>\n",
       "      <td>3</td>\n",
       "    </tr>\n",
       "    <tr>\n",
       "      <th>3</th>\n",
       "      <td>288</td>\n",
       "      <td>4</td>\n",
       "    </tr>\n",
       "    <tr>\n",
       "      <th>4</th>\n",
       "      <td>326</td>\n",
       "      <td>5</td>\n",
       "    </tr>\n",
       "  </tbody>\n",
       "</table>\n",
       "</div>"
      ],
      "text/plain": [
       "  SIGNAL_ID CABINET_ID\n",
       "0       332          1\n",
       "1       742          2\n",
       "2       959          3\n",
       "3       288          4\n",
       "4       326          5"
      ]
     },
     "execution_count": 50,
     "metadata": {},
     "output_type": "execute_result"
    }
   ],
   "source": [
    "cabinet.head(5)"
   ]
  },
  {
   "cell_type": "code",
   "execution_count": 51,
   "metadata": {},
   "outputs": [],
   "source": [
    "# filter out secondary signals\n",
    "secondary = signal.loc[signal[\"CONTROL\"] == \"SECONDARY\"].copy()\n",
    "\n",
    "# filter out primary signals\n",
    "primary = signal.loc[signal[\"CONTROL\"] == \"PRIMARY\"].copy()"
   ]
  },
  {
   "cell_type": "markdown",
   "metadata": {},
   "source": [
    "### 1. Fill cabinet IDs for secondary signals. "
   ]
  },
  {
   "cell_type": "code",
   "execution_count": 52,
   "metadata": {},
   "outputs": [],
   "source": [
    "# slice out trailing 0\n",
    "secondary[\"PRIMARY_SIGNAL_ID\"] = secondary[\"PRIMARY_SIGNAL_ID\"].astype(str)\n",
    "secondary[\"PRIMARY_SIGNAL_ID\"] = secondary[\"PRIMARY_SIGNAL_ID\"].str.split('.', expand = True)[0]"
   ]
  },
  {
   "cell_type": "code",
   "execution_count": 53,
   "metadata": {},
   "outputs": [],
   "source": [
    "# match cabinet ID to secondary signals using the primary \n",
    "# signal IDs of secondary signals\n",
    "secondary_cab = secondary.merge(cabinet, \n",
    "                                left_on = \"PRIMARY_SIGNAL_ID\", \n",
    "                                right_on = \"SIGNAL_ID\", \n",
    "                                how = \"left\").copy()"
   ]
  },
  {
   "cell_type": "code",
   "execution_count": 54,
   "metadata": {},
   "outputs": [
    {
     "name": "stdout",
     "output_type": "stream",
     "text": [
      "<class 'pandas.core.frame.DataFrame'>\n",
      "Int64Index: 136 entries, 0 to 135\n",
      "Data columns (total 7 columns):\n",
      "SIGNAL_ID_x          136 non-null object\n",
      "PRIMARY_SIGNAL_ID    136 non-null object\n",
      "CONTROL              136 non-null object\n",
      "LOCATION_NAME        136 non-null object\n",
      "CONTROLLER_IP        136 non-null object\n",
      "SIGNAL_ID_y          121 non-null object\n",
      "CABINET_ID           121 non-null object\n",
      "dtypes: object(7)\n",
      "memory usage: 8.5+ KB\n"
     ]
    }
   ],
   "source": [
    "secondary_cab.info()"
   ]
  },
  {
   "cell_type": "code",
   "execution_count": 55,
   "metadata": {},
   "outputs": [
    {
     "data": {
      "text/plain": [
       "672    2\n",
       "810    1\n",
       "981    1\n",
       "697    1\n",
       "597    1\n",
       "Name: SIGNAL_ID_x, dtype: int64"
      ]
     },
     "execution_count": 55,
     "metadata": {},
     "output_type": "execute_result"
    }
   ],
   "source": [
    "secondary_cab[\"SIGNAL_ID_x\"].value_counts().head(5)"
   ]
  },
  {
   "cell_type": "code",
   "execution_count": 56,
   "metadata": {},
   "outputs": [],
   "source": [
    "secondary_cab = secondary_cab.rename(columns={'SIGNAL_ID_x': 'SIGNAL_ID'})"
   ]
  },
  {
   "cell_type": "markdown",
   "metadata": {},
   "source": [
    "### 2. map cabinet IDs to primary signals\n"
   ]
  },
  {
   "cell_type": "code",
   "execution_count": 57,
   "metadata": {},
   "outputs": [],
   "source": [
    "primary_cab = primary.merge(cabinet, \n",
    "                                left_on = \"SIGNAL_ID\", \n",
    "                                right_on = \"SIGNAL_ID\", \n",
    "                                how = \"left\").copy()"
   ]
  },
  {
   "cell_type": "code",
   "execution_count": 58,
   "metadata": {},
   "outputs": [
    {
     "name": "stdout",
     "output_type": "stream",
     "text": [
      "<class 'pandas.core.frame.DataFrame'>\n",
      "Int64Index: 988 entries, 0 to 987\n",
      "Data columns (total 6 columns):\n",
      "SIGNAL_ID            988 non-null object\n",
      "PRIMARY_SIGNAL_ID    988 non-null object\n",
      "CONTROL              988 non-null object\n",
      "LOCATION_NAME        988 non-null object\n",
      "CONTROLLER_IP        988 non-null object\n",
      "CABINET_ID           921 non-null object\n",
      "dtypes: object(6)\n",
      "memory usage: 54.0+ KB\n"
     ]
    }
   ],
   "source": [
    "primary_cab.info()"
   ]
  },
  {
   "cell_type": "code",
   "execution_count": 59,
   "metadata": {},
   "outputs": [
    {
     "data": {
      "text/plain": [
       "740    1\n",
       "78     1\n",
       "552    1\n",
       "737    1\n",
       "385    1\n",
       "Name: CABINET_ID, dtype: int64"
      ]
     },
     "execution_count": 59,
     "metadata": {},
     "output_type": "execute_result"
    }
   ],
   "source": [
    "primary_cab[\"CABINET_ID\"].value_counts().head(5)"
   ]
  },
  {
   "cell_type": "code",
   "execution_count": 60,
   "metadata": {},
   "outputs": [],
   "source": [
    "# primary_cab[\"CABINET_ID\"] = primary_cab[\"CABINET_ID\"].astype(str)\n",
    "# primary_cab[\"CABINET_ID\"] = primary_cab[\"CABINET_ID\"].str.split('.', expand = True)[0]"
   ]
  },
  {
   "cell_type": "markdown",
   "metadata": {},
   "source": [
    "### 3. put primary and secondary signals (with cab ID) together"
   ]
  },
  {
   "cell_type": "code",
   "execution_count": 61,
   "metadata": {},
   "outputs": [],
   "source": [
    "signal_cab = primary_cab.append(secondary_cab, sort=False)"
   ]
  },
  {
   "cell_type": "code",
   "execution_count": 62,
   "metadata": {},
   "outputs": [
    {
     "name": "stdout",
     "output_type": "stream",
     "text": [
      "<class 'pandas.core.frame.DataFrame'>\n",
      "Int64Index: 1124 entries, 0 to 135\n",
      "Data columns (total 7 columns):\n",
      "SIGNAL_ID            1124 non-null object\n",
      "PRIMARY_SIGNAL_ID    1124 non-null object\n",
      "CONTROL              1124 non-null object\n",
      "LOCATION_NAME        1124 non-null object\n",
      "CONTROLLER_IP        1124 non-null object\n",
      "CABINET_ID           1042 non-null object\n",
      "SIGNAL_ID_y          121 non-null object\n",
      "dtypes: object(7)\n",
      "memory usage: 70.2+ KB\n"
     ]
    }
   ],
   "source": [
    "signal_cab.info()"
   ]
  },
  {
   "cell_type": "code",
   "execution_count": 63,
   "metadata": {
    "scrolled": true
   },
   "outputs": [
    {
     "data": {
      "text/plain": [
       "672     2\n",
       "914     2\n",
       "245     2\n",
       "725     2\n",
       "871     2\n",
       "671     2\n",
       "513     2\n",
       "683     1\n",
       "737     1\n",
       "552     1\n",
       "1004    1\n",
       "919     1\n",
       "463     1\n",
       "78      1\n",
       "366     1\n",
       "21      1\n",
       "429     1\n",
       "990     1\n",
       "681     1\n",
       "49      1\n",
       "77      1\n",
       "269     1\n",
       "580     1\n",
       "727     1\n",
       "109     1\n",
       "814     1\n",
       "10      1\n",
       "348     1\n",
       "732     1\n",
       "836     1\n",
       "       ..\n",
       "4018    1\n",
       "826     1\n",
       "6       1\n",
       "168     1\n",
       "602     1\n",
       "835     1\n",
       "33      1\n",
       "98      1\n",
       "912     1\n",
       "986     1\n",
       "562     1\n",
       "272     1\n",
       "653     1\n",
       "506     1\n",
       "896     1\n",
       "4079    1\n",
       "35      1\n",
       "656     1\n",
       "524     1\n",
       "558     1\n",
       "961     1\n",
       "4068    1\n",
       "255     1\n",
       "493     1\n",
       "936     1\n",
       "68      1\n",
       "863     1\n",
       "464     1\n",
       "574     1\n",
       "457     1\n",
       "Name: SIGNAL_ID, Length: 1117, dtype: int64"
      ]
     },
     "execution_count": 63,
     "metadata": {},
     "output_type": "execute_result"
    }
   ],
   "source": [
    "signal_cab[\"SIGNAL_ID\"].value_counts()"
   ]
  },
  {
   "cell_type": "code",
   "execution_count": 64,
   "metadata": {},
   "outputs": [],
   "source": [
    "# drop duplicate signals\n",
    "signal_cab = signal_cab.drop_duplicates(subset=\"SIGNAL_ID\")"
   ]
  },
  {
   "cell_type": "code",
   "execution_count": 65,
   "metadata": {},
   "outputs": [
    {
     "data": {
      "text/plain": [
       "(1117, 7)"
      ]
     },
     "execution_count": 65,
     "metadata": {},
     "output_type": "execute_result"
    }
   ],
   "source": [
    "signal_cab.shape"
   ]
  },
  {
   "cell_type": "code",
   "execution_count": 66,
   "metadata": {},
   "outputs": [
    {
     "data": {
      "text/plain": [
       "79     4\n",
       "767    4\n",
       "741    4\n",
       "776    4\n",
       "701    4\n",
       "34     3\n",
       "600    2\n",
       "869    2\n",
       "549    2\n",
       "64     2\n",
       "773    2\n",
       "83     2\n",
       "114    2\n",
       "891    2\n",
       "511    2\n",
       "282    2\n",
       "832    2\n",
       "45     2\n",
       "445    2\n",
       "142    2\n",
       "110    2\n",
       "434    2\n",
       "430    2\n",
       "673    2\n",
       "905    2\n",
       "51     2\n",
       "738    2\n",
       "419    2\n",
       "816    2\n",
       "472    2\n",
       "      ..\n",
       "489    2\n",
       "504    2\n",
       "807    2\n",
       "283    2\n",
       "835    2\n",
       "41     2\n",
       "53     2\n",
       "903    2\n",
       "35     2\n",
       "805    2\n",
       "197    2\n",
       "133    2\n",
       "889    2\n",
       "737    2\n",
       "21     2\n",
       "878    2\n",
       "739    2\n",
       "70     2\n",
       "796    2\n",
       "663    2\n",
       "748    2\n",
       "293    2\n",
       "733    2\n",
       "582    2\n",
       "632    2\n",
       "722    2\n",
       "890    2\n",
       "84     2\n",
       "825    2\n",
       "392    2\n",
       "Name: CABINET_ID, Length: 100, dtype: int64"
      ]
     },
     "execution_count": 66,
     "metadata": {},
     "output_type": "execute_result"
    }
   ],
   "source": [
    "signal_cab[\"CABINET_ID\"].value_counts().head(100)"
   ]
  },
  {
   "cell_type": "code",
   "execution_count": 67,
   "metadata": {
    "scrolled": true
   },
   "outputs": [
    {
     "name": "stdout",
     "output_type": "stream",
     "text": [
      "<class 'pandas.core.frame.DataFrame'>\n",
      "Int64Index: 1117 entries, 0 to 135\n",
      "Data columns (total 7 columns):\n",
      "SIGNAL_ID            1117 non-null object\n",
      "PRIMARY_SIGNAL_ID    1117 non-null object\n",
      "CONTROL              1117 non-null object\n",
      "LOCATION_NAME        1117 non-null object\n",
      "CONTROLLER_IP        1117 non-null object\n",
      "CABINET_ID           1035 non-null object\n",
      "SIGNAL_ID_y          120 non-null object\n",
      "dtypes: object(7)\n",
      "memory usage: 69.8+ KB\n"
     ]
    }
   ],
   "source": [
    "signal_cab.info()"
   ]
  },
  {
   "cell_type": "markdown",
   "metadata": {},
   "source": [
    "### 4. save to CSV"
   ]
  },
  {
   "cell_type": "code",
   "execution_count": 68,
   "metadata": {},
   "outputs": [],
   "source": [
    "signal_cab.to_csv(\"all_signals_with_cabinet_ID.csv\")"
   ]
  },
  {
   "cell_type": "code",
   "execution_count": null,
   "metadata": {},
   "outputs": [],
   "source": []
  }
 ],
 "metadata": {
  "kernelspec": {
   "display_name": "Python 3",
   "language": "python",
   "name": "python3"
  },
  "language_info": {
   "codemirror_mode": {
    "name": "ipython",
    "version": 3
   },
   "file_extension": ".py",
   "mimetype": "text/x-python",
   "name": "python",
   "nbconvert_exporter": "python",
   "pygments_lexer": "ipython3",
   "version": "3.6.5"
  }
 },
 "nbformat": 4,
 "nbformat_minor": 2
}
