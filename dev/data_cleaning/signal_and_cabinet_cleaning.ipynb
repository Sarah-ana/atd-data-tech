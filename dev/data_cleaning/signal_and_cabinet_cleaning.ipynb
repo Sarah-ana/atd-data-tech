{
 "cells": [
  {
   "cell_type": "code",
   "execution_count": 1,
   "metadata": {},
   "outputs": [],
   "source": [
    "import pandas as pd\n",
    "import numpy as np"
   ]
  },
  {
   "cell_type": "code",
   "execution_count": 65,
   "metadata": {},
   "outputs": [],
   "source": [
    "cabinet_raw = pd.read_csv(\"signal_data/cabinet_8_16.csv\")\n",
    "signal_raw = pd.read_csv(\"signal_data/signals_8_16.csv\")"
   ]
  },
  {
   "cell_type": "code",
   "execution_count": 3,
   "metadata": {},
   "outputs": [
    {
     "data": {
      "text/html": [
       "<div>\n",
       "<style scoped>\n",
       "    .dataframe tbody tr th:only-of-type {\n",
       "        vertical-align: middle;\n",
       "    }\n",
       "\n",
       "    .dataframe tbody tr th {\n",
       "        vertical-align: top;\n",
       "    }\n",
       "\n",
       "    .dataframe thead th {\n",
       "        text-align: right;\n",
       "    }\n",
       "</style>\n",
       "<table border=\"1\" class=\"dataframe\">\n",
       "  <thead>\n",
       "    <tr style=\"text-align: right;\">\n",
       "      <th></th>\n",
       "      <th>CABINET_ID</th>\n",
       "      <th>COA_CABINET_ADDRESS_ID</th>\n",
       "      <th>signal</th>\n",
       "      <th>CABINET_CORNER</th>\n",
       "      <th>UPS</th>\n",
       "      <th>COA_ADDRESS_ID</th>\n",
       "      <th>CABINET_LONGITUDE</th>\n",
       "      <th>CABINET_TYPE</th>\n",
       "      <th>CABINET_LATITUDE</th>\n",
       "      <th>CREATED_BY</th>\n",
       "      <th>...</th>\n",
       "      <th>CONTROLLER_IP</th>\n",
       "      <th>IP_COMM_STATUS</th>\n",
       "      <th>COMM_STATUS_DATETIME_UTC</th>\n",
       "      <th>HUB_ID</th>\n",
       "      <th>COMM_TYPE</th>\n",
       "      <th>SWITCH_IP</th>\n",
       "      <th>SWITCH_SEQUENCE#</th>\n",
       "      <th>RING_ID</th>\n",
       "      <th>CIRCUIT_NAME</th>\n",
       "      <th>ART_BOX</th>\n",
       "    </tr>\n",
       "  </thead>\n",
       "  <tbody>\n",
       "    <tr>\n",
       "      <th>0</th>\n",
       "      <td>1</td>\n",
       "      <td>NaN</td>\n",
       "      <td>332:  LAVACA ST / 3RD ST</td>\n",
       "      <td>NE</td>\n",
       "      <td>No</td>\n",
       "      <td>0.0</td>\n",
       "      <td>-97.746387</td>\n",
       "      <td>332</td>\n",
       "      <td>30.265837</td>\n",
       "      <td>NaN</td>\n",
       "      <td>...</td>\n",
       "      <td>NaN</td>\n",
       "      <td>NaN</td>\n",
       "      <td>NaN</td>\n",
       "      <td>NaN</td>\n",
       "      <td>NaN</td>\n",
       "      <td>NaN</td>\n",
       "      <td>NaN</td>\n",
       "      <td>NaN</td>\n",
       "      <td>NaN</td>\n",
       "      <td>No</td>\n",
       "    </tr>\n",
       "    <tr>\n",
       "      <th>1</th>\n",
       "      <td>2</td>\n",
       "      <td>NaN</td>\n",
       "      <td>742:  COLORADO ST / 3RD ST</td>\n",
       "      <td>SW</td>\n",
       "      <td>No</td>\n",
       "      <td>0.0</td>\n",
       "      <td>-97.745254</td>\n",
       "      <td>332</td>\n",
       "      <td>30.265727</td>\n",
       "      <td>NaN</td>\n",
       "      <td>...</td>\n",
       "      <td>NaN</td>\n",
       "      <td>NaN</td>\n",
       "      <td>NaN</td>\n",
       "      <td>NaN</td>\n",
       "      <td>NaN</td>\n",
       "      <td>NaN</td>\n",
       "      <td>NaN</td>\n",
       "      <td>NaN</td>\n",
       "      <td>NaN</td>\n",
       "      <td>No</td>\n",
       "    </tr>\n",
       "    <tr>\n",
       "      <th>2</th>\n",
       "      <td>3</td>\n",
       "      <td>NaN</td>\n",
       "      <td>959:  COLORADO ST / 4TH ST</td>\n",
       "      <td>SW</td>\n",
       "      <td>No</td>\n",
       "      <td>0.0</td>\n",
       "      <td>-97.744945</td>\n",
       "      <td>332</td>\n",
       "      <td>30.266473</td>\n",
       "      <td>NaN</td>\n",
       "      <td>...</td>\n",
       "      <td>NaN</td>\n",
       "      <td>NaN</td>\n",
       "      <td>NaN</td>\n",
       "      <td>NaN</td>\n",
       "      <td>NaN</td>\n",
       "      <td>NaN</td>\n",
       "      <td>NaN</td>\n",
       "      <td>NaN</td>\n",
       "      <td>NaN</td>\n",
       "      <td>No</td>\n",
       "    </tr>\n",
       "    <tr>\n",
       "      <th>3</th>\n",
       "      <td>4</td>\n",
       "      <td>NaN</td>\n",
       "      <td>288:  LAVACA ST / 4TH ST</td>\n",
       "      <td>NW</td>\n",
       "      <td>No</td>\n",
       "      <td>0.0</td>\n",
       "      <td>-97.745999</td>\n",
       "      <td>332</td>\n",
       "      <td>30.267003</td>\n",
       "      <td>NaN</td>\n",
       "      <td>...</td>\n",
       "      <td>NaN</td>\n",
       "      <td>NaN</td>\n",
       "      <td>NaN</td>\n",
       "      <td>NaN</td>\n",
       "      <td>NaN</td>\n",
       "      <td>NaN</td>\n",
       "      <td>NaN</td>\n",
       "      <td>NaN</td>\n",
       "      <td>NaN</td>\n",
       "      <td>No</td>\n",
       "    </tr>\n",
       "    <tr>\n",
       "      <th>4</th>\n",
       "      <td>5</td>\n",
       "      <td>NaN</td>\n",
       "      <td>326:  COLORADO ST / 2ND ST</td>\n",
       "      <td>NE</td>\n",
       "      <td>No</td>\n",
       "      <td>0.0</td>\n",
       "      <td>-97.745412</td>\n",
       "      <td>332</td>\n",
       "      <td>30.264758</td>\n",
       "      <td>NaN</td>\n",
       "      <td>...</td>\n",
       "      <td>NaN</td>\n",
       "      <td>NaN</td>\n",
       "      <td>NaN</td>\n",
       "      <td>NaN</td>\n",
       "      <td>NaN</td>\n",
       "      <td>NaN</td>\n",
       "      <td>NaN</td>\n",
       "      <td>NaN</td>\n",
       "      <td>NaN</td>\n",
       "      <td>No</td>\n",
       "    </tr>\n",
       "  </tbody>\n",
       "</table>\n",
       "<p>5 rows × 34 columns</p>\n",
       "</div>"
      ],
      "text/plain": [
       "   CABINET_ID  COA_CABINET_ADDRESS_ID                      signal  \\\n",
       "0           1                     NaN    332:  LAVACA ST / 3RD ST   \n",
       "1           2                     NaN  742:  COLORADO ST / 3RD ST   \n",
       "2           3                     NaN  959:  COLORADO ST / 4TH ST   \n",
       "3           4                     NaN    288:  LAVACA ST / 4TH ST   \n",
       "4           5                     NaN  326:  COLORADO ST / 2ND ST   \n",
       "\n",
       "  CABINET_CORNER UPS  COA_ADDRESS_ID  CABINET_LONGITUDE CABINET_TYPE  \\\n",
       "0             NE  No             0.0         -97.746387          332   \n",
       "1             SW  No             0.0         -97.745254          332   \n",
       "2             SW  No             0.0         -97.744945          332   \n",
       "3             NW  No             0.0         -97.745999          332   \n",
       "4             NE  No             0.0         -97.745412          332   \n",
       "\n",
       "   CABINET_LATITUDE  CREATED_BY   ...    CONTROLLER_IP IP_COMM_STATUS  \\\n",
       "0         30.265837         NaN   ...              NaN            NaN   \n",
       "1         30.265727         NaN   ...              NaN            NaN   \n",
       "2         30.266473         NaN   ...              NaN            NaN   \n",
       "3         30.267003         NaN   ...              NaN            NaN   \n",
       "4         30.264758         NaN   ...              NaN            NaN   \n",
       "\n",
       "  COMM_STATUS_DATETIME_UTC  HUB_ID COMM_TYPE SWITCH_IP  SWITCH_SEQUENCE#  \\\n",
       "0                      NaN     NaN       NaN       NaN               NaN   \n",
       "1                      NaN     NaN       NaN       NaN               NaN   \n",
       "2                      NaN     NaN       NaN       NaN               NaN   \n",
       "3                      NaN     NaN       NaN       NaN               NaN   \n",
       "4                      NaN     NaN       NaN       NaN               NaN   \n",
       "\n",
       "  RING_ID CIRCUIT_NAME  ART_BOX  \n",
       "0     NaN          NaN       No  \n",
       "1     NaN          NaN       No  \n",
       "2     NaN          NaN       No  \n",
       "3     NaN          NaN       No  \n",
       "4     NaN          NaN       No  \n",
       "\n",
       "[5 rows x 34 columns]"
      ]
     },
     "execution_count": 3,
     "metadata": {},
     "output_type": "execute_result"
    }
   ],
   "source": [
    "cabinet_raw.head(5)"
   ]
  },
  {
   "cell_type": "code",
   "execution_count": 7,
   "metadata": {
    "scrolled": true
   },
   "outputs": [
    {
     "name": "stdout",
     "output_type": "stream",
     "text": [
      "<class 'pandas.core.frame.DataFrame'>\n",
      "RangeIndex: 935 entries, 0 to 934\n",
      "Data columns (total 34 columns):\n",
      "CABINET_ID                  935 non-null int64\n",
      "COA_CABINET_ADDRESS_ID      0 non-null float64\n",
      "signal                      935 non-null object\n",
      "CABINET_CORNER              932 non-null object\n",
      "UPS                         935 non-null object\n",
      "COA_ADDRESS_ID              923 non-null float64\n",
      "CABINET_LONGITUDE           914 non-null float64\n",
      "CABINET_TYPE                935 non-null object\n",
      "CABINET_LATITUDE            914 non-null float64\n",
      "CREATED_BY                  0 non-null float64\n",
      "MODIFIED_BY                 55 non-null object\n",
      "CREATED_DATE                935 non-null object\n",
      "MODIFIED_DATE               935 non-null object\n",
      "SIGNAL_ID                   935 non-null int64\n",
      "LOCATION                    935 non-null object\n",
      "LOCATION: Street 1          933 non-null object\n",
      "LOCATION: Street 2          0 non-null float64\n",
      "LOCATION: City              931 non-null object\n",
      "LOCATION: State             935 non-null object\n",
      "LOCATION: Zip               929 non-null float64\n",
      "LOCATION: Country           935 non-null object\n",
      "LOCATION: Latitude          935 non-null float64\n",
      "LOCATION: Longitude         935 non-null float64\n",
      "UPDATE_PROCESSED            14 non-null object\n",
      "CONTROLLER_IP               0 non-null float64\n",
      "IP_COMM_STATUS              0 non-null float64\n",
      "COMM_STATUS_DATETIME_UTC    12 non-null object\n",
      "HUB_ID                      0 non-null float64\n",
      "COMM_TYPE                   0 non-null float64\n",
      "SWITCH_IP                   0 non-null float64\n",
      "SWITCH_SEQUENCE#            0 non-null float64\n",
      "RING_ID                     0 non-null float64\n",
      "CIRCUIT_NAME                0 non-null float64\n",
      "ART_BOX                     935 non-null object\n",
      "dtypes: float64(17), int64(2), object(15)\n",
      "memory usage: 193.6+ KB\n"
     ]
    }
   ],
   "source": [
    "cabinet_raw.info()"
   ]
  },
  {
   "cell_type": "code",
   "execution_count": 6,
   "metadata": {
    "scrolled": false
   },
   "outputs": [
    {
     "data": {
      "text/html": [
       "<div>\n",
       "<style scoped>\n",
       "    .dataframe tbody tr th:only-of-type {\n",
       "        vertical-align: middle;\n",
       "    }\n",
       "\n",
       "    .dataframe tbody tr th {\n",
       "        vertical-align: top;\n",
       "    }\n",
       "\n",
       "    .dataframe thead th {\n",
       "        text-align: right;\n",
       "    }\n",
       "</style>\n",
       "<table border=\"1\" class=\"dataframe\">\n",
       "  <thead>\n",
       "    <tr style=\"text-align: right;\">\n",
       "      <th></th>\n",
       "      <th>SIGNAL_ID</th>\n",
       "      <th>SIGNAL_TYPE</th>\n",
       "      <th>OWNER</th>\n",
       "      <th>TURN_ON_DATE</th>\n",
       "      <th>MODIFIED_DATE</th>\n",
       "      <th>COMMENT</th>\n",
       "      <th>CONTROL</th>\n",
       "      <th>ATD_LOCATION_ID</th>\n",
       "      <th>LOCATION_NAME</th>\n",
       "      <th>TURN_ON_YEAR</th>\n",
       "      <th>...</th>\n",
       "      <th>COUNT_WORK_ORDERS</th>\n",
       "      <th>SUM_LOOP_DETECTORS</th>\n",
       "      <th>SUM_VIDEO_DETECTORS</th>\n",
       "      <th>SUM_GRIDSMART_DETECTORS</th>\n",
       "      <th>SUM_NO_DETECTORS</th>\n",
       "      <th>DETECTION_TYPE</th>\n",
       "      <th>COMM_TYPE</th>\n",
       "      <th>task_order</th>\n",
       "      <th>ip_swith_cell_temp</th>\n",
       "      <th>comm_type_temp</th>\n",
       "    </tr>\n",
       "  </thead>\n",
       "  <tbody>\n",
       "    <tr>\n",
       "      <th>0</th>\n",
       "      <td>2</td>\n",
       "      <td>TRAFFIC</td>\n",
       "      <td>COA</td>\n",
       "      <td>03/18/1965</td>\n",
       "      <td>07/09/2018 8:10am</td>\n",
       "      <td>NaN</td>\n",
       "      <td>PRIMARY</td>\n",
       "      <td>LOC16-000005</td>\n",
       "      <td>GUADALUPE ST / LAMAR BLVD</td>\n",
       "      <td>-5</td>\n",
       "      <td>...</td>\n",
       "      <td>2</td>\n",
       "      <td>3.0</td>\n",
       "      <td>NaN</td>\n",
       "      <td>0.0</td>\n",
       "      <td>0.0</td>\n",
       "      <td>LOOP</td>\n",
       "      <td>Switch</td>\n",
       "      <td>NaN</td>\n",
       "      <td>NaN</td>\n",
       "      <td>NaN</td>\n",
       "    </tr>\n",
       "    <tr>\n",
       "      <th>1</th>\n",
       "      <td>3</td>\n",
       "      <td>TRAFFIC</td>\n",
       "      <td>COA</td>\n",
       "      <td>10/27/1976</td>\n",
       "      <td>09/21/2016 12:00am</td>\n",
       "      <td>NaN</td>\n",
       "      <td>PRIMARY</td>\n",
       "      <td>LOC16-000010</td>\n",
       "      <td>LAMAR BLVD / 51ST ST</td>\n",
       "      <td>7</td>\n",
       "      <td>...</td>\n",
       "      <td>9</td>\n",
       "      <td>0.0</td>\n",
       "      <td>NaN</td>\n",
       "      <td>0.0</td>\n",
       "      <td>0.0</td>\n",
       "      <td>LOOP</td>\n",
       "      <td>Switch</td>\n",
       "      <td>NaN</td>\n",
       "      <td>NaN</td>\n",
       "      <td>NaN</td>\n",
       "    </tr>\n",
       "    <tr>\n",
       "      <th>2</th>\n",
       "      <td>4</td>\n",
       "      <td>TRAFFIC</td>\n",
       "      <td>COA</td>\n",
       "      <td>08/02/1951</td>\n",
       "      <td>09/21/2016 12:00am</td>\n",
       "      <td>NaN</td>\n",
       "      <td>PRIMARY</td>\n",
       "      <td>LOC16-000015</td>\n",
       "      <td>LAMAR BLVD / NORTH LOOP BLVD</td>\n",
       "      <td>-18</td>\n",
       "      <td>...</td>\n",
       "      <td>8</td>\n",
       "      <td>4.0</td>\n",
       "      <td>NaN</td>\n",
       "      <td>0.0</td>\n",
       "      <td>0.0</td>\n",
       "      <td>LOOP</td>\n",
       "      <td>Switch</td>\n",
       "      <td>NaN</td>\n",
       "      <td>NaN</td>\n",
       "      <td>NaN</td>\n",
       "    </tr>\n",
       "    <tr>\n",
       "      <th>3</th>\n",
       "      <td>5</td>\n",
       "      <td>TRAFFIC</td>\n",
       "      <td>COA</td>\n",
       "      <td>NaN</td>\n",
       "      <td>09/21/2016 12:00am</td>\n",
       "      <td>NaN</td>\n",
       "      <td>PRIMARY</td>\n",
       "      <td>LOC16-000020</td>\n",
       "      <td>KOENIG LN / LAMAR BLVD</td>\n",
       "      <td>0</td>\n",
       "      <td>...</td>\n",
       "      <td>8</td>\n",
       "      <td>6.0</td>\n",
       "      <td>NaN</td>\n",
       "      <td>0.0</td>\n",
       "      <td>0.0</td>\n",
       "      <td>LOOP</td>\n",
       "      <td>Switch</td>\n",
       "      <td>NaN</td>\n",
       "      <td>NaN</td>\n",
       "      <td>NaN</td>\n",
       "    </tr>\n",
       "    <tr>\n",
       "      <th>4</th>\n",
       "      <td>6</td>\n",
       "      <td>TRAFFIC</td>\n",
       "      <td>COA</td>\n",
       "      <td>11/18/1970</td>\n",
       "      <td>09/21/2016 12:00am</td>\n",
       "      <td>NaN</td>\n",
       "      <td>PRIMARY</td>\n",
       "      <td>LOC16-000025</td>\n",
       "      <td>LAMAR BLVD / DENSON DR</td>\n",
       "      <td>1</td>\n",
       "      <td>...</td>\n",
       "      <td>1</td>\n",
       "      <td>2.0</td>\n",
       "      <td>NaN</td>\n",
       "      <td>0.0</td>\n",
       "      <td>0.0</td>\n",
       "      <td>LOOP</td>\n",
       "      <td>Switch</td>\n",
       "      <td>NaN</td>\n",
       "      <td>NaN</td>\n",
       "      <td>NaN</td>\n",
       "    </tr>\n",
       "  </tbody>\n",
       "</table>\n",
       "<p>5 rows × 57 columns</p>\n",
       "</div>"
      ],
      "text/plain": [
       "   SIGNAL_ID SIGNAL_TYPE OWNER TURN_ON_DATE       MODIFIED_DATE COMMENT  \\\n",
       "0          2     TRAFFIC   COA   03/18/1965   07/09/2018 8:10am     NaN   \n",
       "1          3     TRAFFIC   COA   10/27/1976  09/21/2016 12:00am     NaN   \n",
       "2          4     TRAFFIC   COA   08/02/1951  09/21/2016 12:00am     NaN   \n",
       "3          5     TRAFFIC   COA          NaN  09/21/2016 12:00am     NaN   \n",
       "4          6     TRAFFIC   COA   11/18/1970  09/21/2016 12:00am     NaN   \n",
       "\n",
       "   CONTROL ATD_LOCATION_ID                  LOCATION_NAME  TURN_ON_YEAR  \\\n",
       "0  PRIMARY    LOC16-000005      GUADALUPE ST / LAMAR BLVD            -5   \n",
       "1  PRIMARY    LOC16-000010           LAMAR BLVD / 51ST ST             7   \n",
       "2  PRIMARY    LOC16-000015   LAMAR BLVD / NORTH LOOP BLVD           -18   \n",
       "3  PRIMARY    LOC16-000020         KOENIG LN / LAMAR BLVD             0   \n",
       "4  PRIMARY    LOC16-000025         LAMAR BLVD / DENSON DR             1   \n",
       "\n",
       "       ...       COUNT_WORK_ORDERS SUM_LOOP_DETECTORS SUM_VIDEO_DETECTORS  \\\n",
       "0      ...                       2                3.0                 NaN   \n",
       "1      ...                       9                0.0                 NaN   \n",
       "2      ...                       8                4.0                 NaN   \n",
       "3      ...                       8                6.0                 NaN   \n",
       "4      ...                       1                2.0                 NaN   \n",
       "\n",
       "  SUM_GRIDSMART_DETECTORS SUM_NO_DETECTORS DETECTION_TYPE COMM_TYPE  \\\n",
       "0                     0.0              0.0           LOOP    Switch   \n",
       "1                     0.0              0.0           LOOP    Switch   \n",
       "2                     0.0              0.0           LOOP    Switch   \n",
       "3                     0.0              0.0           LOOP    Switch   \n",
       "4                     0.0              0.0           LOOP    Switch   \n",
       "\n",
       "  task_order ip_swith_cell_temp comm_type_temp  \n",
       "0        NaN                NaN            NaN  \n",
       "1        NaN                NaN            NaN  \n",
       "2        NaN                NaN            NaN  \n",
       "3        NaN                NaN            NaN  \n",
       "4        NaN                NaN            NaN  \n",
       "\n",
       "[5 rows x 57 columns]"
      ]
     },
     "execution_count": 6,
     "metadata": {},
     "output_type": "execute_result"
    }
   ],
   "source": [
    "signal_raw.head(5)"
   ]
  },
  {
   "cell_type": "code",
   "execution_count": 8,
   "metadata": {
    "scrolled": false
   },
   "outputs": [
    {
     "name": "stdout",
     "output_type": "stream",
     "text": [
      "<class 'pandas.core.frame.DataFrame'>\n",
      "RangeIndex: 1117 entries, 0 to 1116\n",
      "Data columns (total 57 columns):\n",
      "SIGNAL_ID                        1117 non-null int64\n",
      "SIGNAL_TYPE                      1117 non-null object\n",
      "OWNER                            1111 non-null object\n",
      "TURN_ON_DATE                     897 non-null object\n",
      "MODIFIED_DATE                    1117 non-null object\n",
      "COMMENT                          62 non-null object\n",
      "CONTROL                          1117 non-null object\n",
      "ATD_LOCATION_ID                  1117 non-null object\n",
      "LOCATION_NAME                    1117 non-null object\n",
      "TURN_ON_YEAR                     1117 non-null int64\n",
      "SIGNAL_STATUS                    1117 non-null object\n",
      "SWITCH_COMM                      1039 non-null object\n",
      "CONTROLLER_IP                    923 non-null object\n",
      "IP_COMM_STATUS                   1117 non-null object\n",
      "MODIFIED_BY                      491 non-null object\n",
      "CREATED_DATE                     69 non-null object\n",
      "asset_id_generator               1117 non-null object\n",
      "PRIMARY_SIGNAL                   125 non-null object\n",
      "WEBMAP_URL_GENERATOR             1117 non-null object\n",
      "WEBMAP_URL                       1117 non-null object\n",
      "PRIMARY_SIGNAL_ID                132 non-null float64\n",
      "COUNCIL_DISTRICT                 1086 non-null object\n",
      "PEDESTRIAN_SIGNAL_TYPE           1030 non-null object\n",
      "PED_BUTTON_TYPE                  264 non-null object\n",
      "SECONDARY_SIGNALS                114 non-null object\n",
      "LANDMARK                         1117 non-null object\n",
      "SIGNAL_NAME                      1117 non-null object\n",
      "COMM_STATUS_DATETIME_UTC         1116 non-null object\n",
      "FUNDING                          374 non-null object\n",
      "CONST_CONTRACT                   42 non-null object\n",
      "SECONDARY_SIGNALS_COUNT          1117 non-null int64\n",
      "SIGNAL_PM_MAX_FISCAL_YEAR        1033 non-null float64\n",
      "FIRMWARE_STATUS                  1117 non-null object\n",
      "FIRMWARE_STATUS_DATE             1117 non-null object\n",
      "DETECTION_STATUS                 1117 non-null object\n",
      "DETECTION_STATUS_DATE            892 non-null object\n",
      "NUMBER_OF_DETECTORS              1117 non-null int64\n",
      "CONSTRUCTION_NOTE                43 non-null object\n",
      "CONSTRUCTION_NOTE_PREVIOUS       45 non-null object\n",
      "CONSTRUCTION_NOTE_DATE           37 non-null object\n",
      "CONSTRUCTION_NOTE_INTERNAL       28 non-null object\n",
      "SIGNAL_STATUS_PREVIOIUS          1117 non-null object\n",
      "CONSTRUCTION_NOTE_TRANSMITTED    1117 non-null object\n",
      "COMM_REDUNDANCY                  0 non-null float64\n",
      "TASK_ORDER                       11 non-null object\n",
      "SIGNAL_ENG_AREA                  1117 non-null object\n",
      "BIKE_SIGNAL                      1117 non-null object\n",
      "COUNT_WORK_ORDERS                1117 non-null int64\n",
      "SUM_LOOP_DETECTORS               837 non-null float64\n",
      "SUM_VIDEO_DETECTORS              132 non-null float64\n",
      "SUM_GRIDSMART_DETECTORS          837 non-null float64\n",
      "SUM_NO_DETECTORS                 837 non-null float64\n",
      "DETECTION_TYPE                   735 non-null object\n",
      "COMM_TYPE                        1103 non-null object\n",
      "task_order                       10 non-null object\n",
      "ip_swith_cell_temp               0 non-null float64\n",
      "comm_type_temp                   2 non-null object\n",
      "dtypes: float64(8), int64(5), object(44)\n",
      "memory usage: 305.5+ KB\n"
     ]
    }
   ],
   "source": [
    "signal_raw.info()"
   ]
  },
  {
   "cell_type": "code",
   "execution_count": 66,
   "metadata": {},
   "outputs": [],
   "source": [
    "# pick useful columns from two datasets\n",
    "signal = signal_raw[[\"SIGNAL_ID\", \"PRIMARY_SIGNAL_ID\", \"CONTROL\"]]\n",
    "cabinet = cabinet_raw[[\"SIGNAL_ID\", \"CABINET_ID\"]]"
   ]
  },
  {
   "cell_type": "code",
   "execution_count": 56,
   "metadata": {},
   "outputs": [],
   "source": [
    "# add cabinet ID to signals dataframe\n",
    "# signal[\"CABINET_ID\"] = \"\""
   ]
  },
  {
   "cell_type": "code",
   "execution_count": 67,
   "metadata": {},
   "outputs": [],
   "source": [
    "# filter out secondary signals\n",
    "secondary = signal.loc[signal[\"CONTROL\"] == \"SECONDARY\"].copy()"
   ]
  },
  {
   "cell_type": "code",
   "execution_count": 68,
   "metadata": {},
   "outputs": [],
   "source": [
    "# filter out primary signals\n",
    "primary = signal.loc[signal[\"CONTROL\"] == \"PRIMARY\"].copy()"
   ]
  },
  {
   "cell_type": "code",
   "execution_count": 87,
   "metadata": {
    "scrolled": true
   },
   "outputs": [
    {
     "name": "stdout",
     "output_type": "stream",
     "text": [
      "<class 'pandas.core.frame.DataFrame'>\n",
      "Int64Index: 135 entries, 6 to 1025\n",
      "Data columns (total 3 columns):\n",
      "SIGNAL_ID            135 non-null int64\n",
      "PRIMARY_SIGNAL_ID    132 non-null float64\n",
      "CONTROL              135 non-null object\n",
      "dtypes: float64(1), int64(1), object(1)\n",
      "memory usage: 3.7+ KB\n"
     ]
    }
   ],
   "source": [
    "secondary.info()"
   ]
  },
  {
   "cell_type": "code",
   "execution_count": 85,
   "metadata": {
    "scrolled": true
   },
   "outputs": [
    {
     "name": "stdout",
     "output_type": "stream",
     "text": [
      "<class 'pandas.core.frame.DataFrame'>\n",
      "Int64Index: 982 entries, 0 to 1116\n",
      "Data columns (total 3 columns):\n",
      "SIGNAL_ID            982 non-null int64\n",
      "PRIMARY_SIGNAL_ID    0 non-null float64\n",
      "CONTROL              982 non-null object\n",
      "dtypes: float64(1), int64(1), object(1)\n",
      "memory usage: 26.9+ KB\n"
     ]
    }
   ],
   "source": [
    "primary.info()"
   ]
  },
  {
   "cell_type": "markdown",
   "metadata": {},
   "source": [
    "### 1. Fill cabinet IDs for secondary signals. "
   ]
  },
  {
   "cell_type": "code",
   "execution_count": 91,
   "metadata": {},
   "outputs": [],
   "source": [
    "# match cabinet ID to secondary signals using the primary \n",
    "# signal IDs of secondary signals\n",
    "secondary_cab = secondary.merge(cabinet, \n",
    "                                left_on = \"PRIMARY_SIGNAL_ID\", \n",
    "                                right_on = \"SIGNAL_ID\", \n",
    "                                how = \"left\").copy()"
   ]
  },
  {
   "cell_type": "code",
   "execution_count": 100,
   "metadata": {},
   "outputs": [
    {
     "name": "stdout",
     "output_type": "stream",
     "text": [
      "<class 'pandas.core.frame.DataFrame'>\n",
      "Int64Index: 136 entries, 0 to 135\n",
      "Data columns (total 5 columns):\n",
      "SIGNAL_ID_x          136 non-null int64\n",
      "PRIMARY_SIGNAL_ID    133 non-null float64\n",
      "CONTROL              136 non-null object\n",
      "SIGNAL_ID_y          126 non-null float64\n",
      "CABINET_ID           126 non-null float64\n",
      "dtypes: float64(3), int64(1), object(1)\n",
      "memory usage: 5.8+ KB\n"
     ]
    }
   ],
   "source": [
    "secondary_cab.info()"
   ]
  },
  {
   "cell_type": "code",
   "execution_count": 99,
   "metadata": {},
   "outputs": [
    {
     "data": {
      "text/plain": [
       "672     2\n",
       "1038    1\n",
       "584     1\n",
       "345     1\n",
       "809     1\n",
       "597     1\n",
       "340     1\n",
       "339     1\n",
       "594     1\n",
       "336     1\n",
       "603     1\n",
       "591     1\n",
       "334     1\n",
       "77      1\n",
       "588     1\n",
       "331     1\n",
       "858     1\n",
       "97      1\n",
       "582     1\n",
       "104     1\n",
       "915     1\n",
       "618     1\n",
       "621     1\n",
       "878     1\n",
       "468     1\n",
       "627     1\n",
       "884     1\n",
       "546     1\n",
       "380     1\n",
       "904     1\n",
       "       ..\n",
       "548     1\n",
       "652     1\n",
       "654     1\n",
       "147     1\n",
       "916     1\n",
       "917     1\n",
       "407     1\n",
       "983     1\n",
       "667     1\n",
       "412     1\n",
       "157     1\n",
       "416     1\n",
       "931     1\n",
       "623     1\n",
       "167     1\n",
       "427     1\n",
       "173     1\n",
       "686     1\n",
       "687     1\n",
       "944     1\n",
       "946     1\n",
       "691     1\n",
       "693     1\n",
       "695     1\n",
       "683     1\n",
       "697     1\n",
       "699     1\n",
       "448     1\n",
       "449     1\n",
       "768     1\n",
       "Name: SIGNAL_ID_x, Length: 135, dtype: int64"
      ]
     },
     "execution_count": 99,
     "metadata": {},
     "output_type": "execute_result"
    }
   ],
   "source": [
    "secondary_cab[\"SIGNAL_ID_x\"].value_counts()"
   ]
  },
  {
   "cell_type": "code",
   "execution_count": 102,
   "metadata": {},
   "outputs": [
    {
     "data": {
      "text/html": [
       "<div>\n",
       "<style scoped>\n",
       "    .dataframe tbody tr th:only-of-type {\n",
       "        vertical-align: middle;\n",
       "    }\n",
       "\n",
       "    .dataframe tbody tr th {\n",
       "        vertical-align: top;\n",
       "    }\n",
       "\n",
       "    .dataframe thead th {\n",
       "        text-align: right;\n",
       "    }\n",
       "</style>\n",
       "<table border=\"1\" class=\"dataframe\">\n",
       "  <thead>\n",
       "    <tr style=\"text-align: right;\">\n",
       "      <th></th>\n",
       "      <th>SIGNAL_ID_x</th>\n",
       "      <th>PRIMARY_SIGNAL_ID</th>\n",
       "      <th>CONTROL</th>\n",
       "      <th>SIGNAL_ID_y</th>\n",
       "      <th>CABINET_ID</th>\n",
       "    </tr>\n",
       "  </thead>\n",
       "  <tbody>\n",
       "    <tr>\n",
       "      <th>66</th>\n",
       "      <td>672</td>\n",
       "      <td>671.0</td>\n",
       "      <td>SECONDARY</td>\n",
       "      <td>671.0</td>\n",
       "      <td>696.0</td>\n",
       "    </tr>\n",
       "    <tr>\n",
       "      <th>67</th>\n",
       "      <td>672</td>\n",
       "      <td>671.0</td>\n",
       "      <td>SECONDARY</td>\n",
       "      <td>671.0</td>\n",
       "      <td>697.0</td>\n",
       "    </tr>\n",
       "  </tbody>\n",
       "</table>\n",
       "</div>"
      ],
      "text/plain": [
       "    SIGNAL_ID_x  PRIMARY_SIGNAL_ID    CONTROL  SIGNAL_ID_y  CABINET_ID\n",
       "66          672              671.0  SECONDARY        671.0       696.0\n",
       "67          672              671.0  SECONDARY        671.0       697.0"
      ]
     },
     "execution_count": 102,
     "metadata": {},
     "output_type": "execute_result"
    }
   ],
   "source": [
    "secondary_cab.loc[secondary_cab[\"SIGNAL_ID_x\"] == 672]"
   ]
  },
  {
   "cell_type": "code",
   "execution_count": 72,
   "metadata": {},
   "outputs": [
    {
     "data": {
      "text/plain": [
       "79.0     3\n",
       "776.0    3\n",
       "741.0    3\n",
       "767.0    3\n",
       "701.0    3\n",
       "Name: CABINET_ID, dtype: int64"
      ]
     },
     "execution_count": 72,
     "metadata": {},
     "output_type": "execute_result"
    }
   ],
   "source": [
    "secondary_cab[\"CABINET_ID\"].value_counts().head(5)"
   ]
  },
  {
   "cell_type": "code",
   "execution_count": 73,
   "metadata": {},
   "outputs": [],
   "source": [
    "# slice out trailing 0\n",
    "secondary_cab[\"CABINET_ID\"] = secondary_cab[\"CABINET_ID\"].astype(str)\n",
    "secondary_cab[\"CABINET_ID\"] = secondary_cab[\"CABINET_ID\"].str.split('.', expand = True)[0]"
   ]
  },
  {
   "cell_type": "code",
   "execution_count": 74,
   "metadata": {},
   "outputs": [
    {
     "data": {
      "text/plain": [
       "nan    10\n",
       "701     3\n",
       "79      3\n",
       "741     3\n",
       "767     3\n",
       "Name: CABINET_ID, dtype: int64"
      ]
     },
     "execution_count": 74,
     "metadata": {},
     "output_type": "execute_result"
    }
   ],
   "source": [
    "secondary_cab[\"CABINET_ID\"].value_counts().head(5)"
   ]
  },
  {
   "cell_type": "markdown",
   "metadata": {},
   "source": [
    "### 2. map cabinet IDs to primary signals\n"
   ]
  },
  {
   "cell_type": "code",
   "execution_count": 75,
   "metadata": {},
   "outputs": [],
   "source": [
    "primary_cab = primary.merge(cabinet, \n",
    "                                left_on = \"SIGNAL_ID\", \n",
    "                                right_on = \"SIGNAL_ID\", \n",
    "                                how = \"left\").copy()"
   ]
  },
  {
   "cell_type": "code",
   "execution_count": 76,
   "metadata": {},
   "outputs": [
    {
     "name": "stdout",
     "output_type": "stream",
     "text": [
      "<class 'pandas.core.frame.DataFrame'>\n",
      "Int64Index: 996 entries, 0 to 995\n",
      "Data columns (total 4 columns):\n",
      "SIGNAL_ID            996 non-null int64\n",
      "PRIMARY_SIGNAL_ID    0 non-null float64\n",
      "CONTROL              996 non-null object\n",
      "CABINET_ID           921 non-null float64\n",
      "dtypes: float64(2), int64(1), object(1)\n",
      "memory usage: 35.0+ KB\n"
     ]
    }
   ],
   "source": [
    "primary_cab.info()"
   ]
  },
  {
   "cell_type": "code",
   "execution_count": 77,
   "metadata": {},
   "outputs": [
    {
     "data": {
      "text/plain": [
       "727.0    1\n",
       "163.0    1\n",
       "394.0    1\n",
       "227.0    1\n",
       "694.0    1\n",
       "Name: CABINET_ID, dtype: int64"
      ]
     },
     "execution_count": 77,
     "metadata": {},
     "output_type": "execute_result"
    }
   ],
   "source": [
    "primary_cab[\"CABINET_ID\"].value_counts().head(5)"
   ]
  },
  {
   "cell_type": "code",
   "execution_count": 78,
   "metadata": {},
   "outputs": [],
   "source": [
    "primary_cab[\"CABINET_ID\"] = primary_cab[\"CABINET_ID\"].astype(str)\n",
    "primary_cab[\"CABINET_ID\"] = primary_cab[\"CABINET_ID\"].str.split('.', expand = True)[0]"
   ]
  },
  {
   "cell_type": "code",
   "execution_count": 108,
   "metadata": {},
   "outputs": [
    {
     "ename": "SyntaxError",
     "evalue": "invalid syntax (<ipython-input-108-b4ae0c1cdc7b>, line 1)",
     "output_type": "error",
     "traceback": [
      "\u001b[1;36m  File \u001b[1;32m\"<ipython-input-108-b4ae0c1cdc7b>\"\u001b[1;36m, line \u001b[1;32m1\u001b[0m\n\u001b[1;33m    type(primary_cab[])\u001b[0m\n\u001b[1;37m                     ^\u001b[0m\n\u001b[1;31mSyntaxError\u001b[0m\u001b[1;31m:\u001b[0m invalid syntax\n"
     ]
    }
   ],
   "source": [
    "type(primary_cab[\"\"])"
   ]
  },
  {
   "cell_type": "code",
   "execution_count": 79,
   "metadata": {},
   "outputs": [
    {
     "data": {
      "text/plain": [
       "nan    75\n",
       "623     1\n",
       "556     1\n",
       "571     1\n",
       "708     1\n",
       "Name: CABINET_ID, dtype: int64"
      ]
     },
     "execution_count": 79,
     "metadata": {},
     "output_type": "execute_result"
    }
   ],
   "source": [
    "primary_cab[\"CABINET_ID\"].value_counts().head(5)"
   ]
  },
  {
   "cell_type": "code",
   "execution_count": 107,
   "metadata": {},
   "outputs": [
    {
     "data": {
      "text/plain": [
       "671     2\n",
       "479     2\n",
       "25      2\n",
       "513     2\n",
       "653     2\n",
       "785     2\n",
       "828     2\n",
       "245     2\n",
       "871     2\n",
       "90      2\n",
       "94      2\n",
       "914     2\n",
       "486     2\n",
       "462     2\n",
       "354     1\n",
       "352     1\n",
       "355     1\n",
       "356     1\n",
       "357     1\n",
       "358     1\n",
       "351     1\n",
       "359     1\n",
       "353     1\n",
       "4085    1\n",
       "350     1\n",
       "349     1\n",
       "348     1\n",
       "347     1\n",
       "346     1\n",
       "344     1\n",
       "       ..\n",
       "735     1\n",
       "736     1\n",
       "752     1\n",
       "766     1\n",
       "764     1\n",
       "763     1\n",
       "761     1\n",
       "760     1\n",
       "759     1\n",
       "758     1\n",
       "757     1\n",
       "756     1\n",
       "755     1\n",
       "754     1\n",
       "753     1\n",
       "751     1\n",
       "737     1\n",
       "750     1\n",
       "749     1\n",
       "748     1\n",
       "747     1\n",
       "745     1\n",
       "744     1\n",
       "743     1\n",
       "742     1\n",
       "741     1\n",
       "740     1\n",
       "739     1\n",
       "738     1\n",
       "2       1\n",
       "Name: SIGNAL_ID, Length: 982, dtype: int64"
      ]
     },
     "execution_count": 107,
     "metadata": {},
     "output_type": "execute_result"
    }
   ],
   "source": [
    "primary_cab[\"SIGNAL_ID\"].value_counts()"
   ]
  },
  {
   "cell_type": "markdown",
   "metadata": {},
   "source": [
    "### 3. put primary and secondary signals (with cab ID) together"
   ]
  },
  {
   "cell_type": "code",
   "execution_count": 80,
   "metadata": {},
   "outputs": [],
   "source": [
    "signal_cab = primary_cab.append(secondary_cab, ignore_index=True, sort=False)"
   ]
  },
  {
   "cell_type": "code",
   "execution_count": 81,
   "metadata": {},
   "outputs": [
    {
     "name": "stdout",
     "output_type": "stream",
     "text": [
      "<class 'pandas.core.frame.DataFrame'>\n",
      "RangeIndex: 1132 entries, 0 to 1131\n",
      "Data columns (total 6 columns):\n",
      "SIGNAL_ID            996 non-null float64\n",
      "PRIMARY_SIGNAL_ID    133 non-null float64\n",
      "CONTROL              1132 non-null object\n",
      "CABINET_ID           1132 non-null object\n",
      "SIGNAL_ID_x          136 non-null float64\n",
      "SIGNAL_ID_y          126 non-null float64\n",
      "dtypes: float64(4), object(2)\n",
      "memory usage: 44.3+ KB\n"
     ]
    }
   ],
   "source": [
    "signal_cab.info()"
   ]
  },
  {
   "cell_type": "code",
   "execution_count": null,
   "metadata": {},
   "outputs": [],
   "source": []
  }
 ],
 "metadata": {
  "kernelspec": {
   "display_name": "Python 3",
   "language": "python",
   "name": "python3"
  },
  "language_info": {
   "codemirror_mode": {
    "name": "ipython",
    "version": 3
   },
   "file_extension": ".py",
   "mimetype": "text/x-python",
   "name": "python",
   "nbconvert_exporter": "python",
   "pygments_lexer": "ipython3",
   "version": "3.6.5"
  }
 },
 "nbformat": 4,
 "nbformat_minor": 2
}
